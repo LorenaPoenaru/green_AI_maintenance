{
 "cells": [
  {
   "cell_type": "code",
   "execution_count": 4,
   "id": "2bc4e80a",
   "metadata": {},
   "outputs": [
    {
     "name": "stdout",
     "output_type": "stream",
     "text": [
      "Results will be printed to results.csv\n",
      "Running EnergiBridge from: /Users/june/Dev/Energibridge/target/release/energibridge; started with PID: 7658\n",
      "EnergiBridge stopped.\n",
      "Energy consumption (J): 10.023951642513275; Execution time (s): 1.4501463\n"
     ]
    }
   ],
   "source": [
    "import time\n",
    "from pyEnergiBridge.api import EnergiBridgeRunner\n",
    "\n",
    "runner = EnergiBridgeRunner()\n",
    "runner.start(results_file=\"results.csv\")\n",
    "\n",
    "# Perform some task\n",
    "time.sleep(2)\n",
    "\n",
    "# Stop the data collection and retrieve results\n",
    "energy, duration = runner.stop()\n",
    "print(f\"Energy consumption (J): {energy}; Execution time (s): {duration}\")\n",
    "\n"
   ]
  },
  {
   "cell_type": "code",
   "execution_count": 9,
   "id": "9294a5ab",
   "metadata": {},
   "outputs": [
    {
     "name": "stdout",
     "output_type": "stream",
     "text": [
      "something to do\n",
      "Running EnergiBridge from: /Users/june/Dev/Energibridge/target/release/energibridge; started with PID: 7959\n",
      "EnergiBridge stopped.\n"
     ]
    },
    {
     "data": {
      "text/html": [
       "\n",
       "    <div style='border:1px solid #ccc; padding:0 10px; margin:10px 0;'>\n",
       "        <h4>Measurement Results</h4>\n",
       "        <p><strong>🌿 Energy:</strong> 27.849915416717536 J\n",
       "        <br/><strong>⏰ Time:</strong> 4.7051816 s</p>\n",
       "    </div>\n",
       "    "
      ],
      "text/plain": [
       "<IPython.core.display.HTML object>"
      ]
     },
     "metadata": {},
     "output_type": "display_data"
    }
   ],
   "source": [
    "\n",
    "import time\n",
    "\n",
    "#%%measure_energy_time_cell\n",
    "\n",
    "print(\"something to do\")\n",
    "%measure_energy_time_line time.sleep(5)"
   ]
  },
  {
   "cell_type": "code",
   "execution_count": 21,
   "id": "af563ca0-6e6a-4283-b76d-8b271975532e",
   "metadata": {},
   "outputs": [
    {
     "name": "stdout",
     "output_type": "stream",
     "text": [
      "Results will be printed to results2.csv\n",
      "Running EnergiBridge from: /Users/june/Dev/Energibridge/target/release/energibridge; started with PID: 10937\n",
      "EnergiBridge stopped.\n",
      "Energy consumption (J): 23.12209310650825; Execution time (s): 4.7217665\n",
      "Results will be printed to results3_test.csv\n",
      "Running EnergiBridge from: /Users/june/Dev/Energibridge/target/release/energibridge; started with PID: 10948\n",
      "EnergiBridge stopped.\n",
      "Energy consumption (J): None; Execution time (s): None\n",
      "something to do\n",
      "Running EnergiBridge from: /Users/june/Dev/Energibridge/target/release/energibridge; started with PID: 10949\n",
      "EnergiBridge stopped.\n"
     ]
    },
    {
     "data": {
      "text/html": [
       "\n",
       "    <div style='border:1px solid #ccc; padding:0 10px; margin:10px 0;'>\n",
       "        <h4>Measurement Results</h4>\n",
       "        <p><strong>🌿 Energy:</strong> 19.17656587743759 J\n",
       "        <br/><strong>⏰ Time:</strong> 4.7400293 s</p>\n",
       "    </div>\n",
       "    "
      ],
      "text/plain": [
       "<IPython.core.display.HTML object>"
      ]
     },
     "metadata": {},
     "output_type": "display_data"
    }
   ],
   "source": [
    "runner2 = EnergiBridgeRunner()\n",
    "runner2.start(results_file=\"results2.csv\")\n",
    "# Perform some task\n",
    "time.sleep(5)\n",
    "\n",
    "# Stop the data collection and retrieve results\n",
    "energy2, duration2 = runner2.stop()\n",
    "print(f\"Energy consumption (J): {energy2}; Execution time (s): {duration2}\")\n",
    "time.sleep(5)\n",
    "\n",
    "runner3 = EnergiBridgeRunner()\n",
    "runner3.start(results_file=\"results3_test.csv\")\n",
    "energy3, duration3 = runner3.stop()\n",
    "print(f\"Energy consumption (J): {energy3}; Execution time (s): {duration3}\")\n",
    "\n",
    "\n",
    "\n",
    "print(\"something to do\")\n",
    "%measure_energy_time_line time.sleep(5)"
   ]
  },
  {
   "cell_type": "code",
   "execution_count": null,
   "id": "535f5e56-d780-467f-8c52-fb3d48da6a5e",
   "metadata": {},
   "outputs": [],
   "source": []
  },
  {
   "cell_type": "code",
   "execution_count": null,
   "id": "de2f10be-56fe-4c67-ad33-0accbd03a071",
   "metadata": {},
   "outputs": [],
   "source": []
  },
  {
   "cell_type": "code",
   "execution_count": null,
   "id": "0ef642f2-37ce-4cdb-a281-da352ba63f58",
   "metadata": {},
   "outputs": [],
   "source": []
  }
 ],
 "metadata": {
  "kernelspec": {
   "display_name": "Python 3 (ipykernel)",
   "language": "python",
   "name": "python3"
  },
  "language_info": {
   "codemirror_mode": {
    "name": "ipython",
    "version": 3
   },
   "file_extension": ".py",
   "mimetype": "text/x-python",
   "name": "python",
   "nbconvert_exporter": "python",
   "pygments_lexer": "ipython3",
   "version": "3.9.13"
  }
 },
 "nbformat": 4,
 "nbformat_minor": 5
}
